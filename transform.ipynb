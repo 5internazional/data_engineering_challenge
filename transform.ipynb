{
 "cells": [
  {
   "cell_type": "code",
   "execution_count": 18,
   "metadata": {},
   "outputs": [],
   "source": [
    "#!pip install openfoodfacts"
   ]
  },
  {
   "cell_type": "code",
   "execution_count": 19,
   "metadata": {},
   "outputs": [],
   "source": [
    "import pandas as pd\n",
    "import openfoodfacts\n",
    "from collections import Counter"
   ]
  },
  {
   "cell_type": "markdown",
   "metadata": {},
   "source": [
    "# Read data from openfoodfacts and create df"
   ]
  },
  {
   "cell_type": "code",
   "execution_count": 20,
   "metadata": {},
   "outputs": [],
   "source": [
    "ids = [737628064502,3017620422003,5449000131805,3175680011534,8000500310427,3228857000166,3229820782560,5410188031072,5010477348630,3068320114453,3088543506255,3033490506629,7622210476104,5000112611878,3228021170022,5411188119098,3073781115345,3252210390014,20724696,8076809513753,87157239,7622300441937,5053990156009,20916435]\n",
    "ids = [str(x) for x in ids]"
   ]
  },
  {
   "cell_type": "code",
   "execution_count": 21,
   "metadata": {},
   "outputs": [],
   "source": [
    "categories = [\"id\", \"categories_hierarchy\", \"generic_name\", \"nutriscore_score\", \"quantity\", \"origins\", \"Allergens\"]"
   ]
  },
  {
   "cell_type": "code",
   "execution_count": 22,
   "metadata": {},
   "outputs": [],
   "source": [
    "df = pd.DataFrame(columns=categories)"
   ]
  },
  {
   "cell_type": "code",
   "execution_count": 23,
   "metadata": {},
   "outputs": [
    {
     "data": {
      "text/html": [
       "<div>\n",
       "<style scoped>\n",
       "    .dataframe tbody tr th:only-of-type {\n",
       "        vertical-align: middle;\n",
       "    }\n",
       "\n",
       "    .dataframe tbody tr th {\n",
       "        vertical-align: top;\n",
       "    }\n",
       "\n",
       "    .dataframe thead th {\n",
       "        text-align: right;\n",
       "    }\n",
       "</style>\n",
       "<table border=\"1\" class=\"dataframe\">\n",
       "  <thead>\n",
       "    <tr style=\"text-align: right;\">\n",
       "      <th></th>\n",
       "      <th>id</th>\n",
       "      <th>categories_hierarchy</th>\n",
       "      <th>generic_name</th>\n",
       "      <th>nutriscore_score</th>\n",
       "      <th>quantity</th>\n",
       "      <th>origins</th>\n",
       "      <th>Allergens</th>\n",
       "    </tr>\n",
       "  </thead>\n",
       "  <tbody>\n",
       "    <tr>\n",
       "      <th>0</th>\n",
       "      <td>737628064502</td>\n",
       "      <td>[en:plant-based-foods-and-beverages, en:plant-...</td>\n",
       "      <td>Rice Noodles</td>\n",
       "      <td>4</td>\n",
       "      <td>155 g</td>\n",
       "      <td>Thailand</td>\n",
       "      <td>None</td>\n",
       "    </tr>\n",
       "    <tr>\n",
       "      <th>1</th>\n",
       "      <td>3017620422003</td>\n",
       "      <td>[en:Petit-déjeuners, en:Produits à tartiner, e...</td>\n",
       "      <td>None</td>\n",
       "      <td>26</td>\n",
       "      <td>400 g</td>\n",
       "      <td></td>\n",
       "      <td>None</td>\n",
       "    </tr>\n",
       "    <tr>\n",
       "      <th>2</th>\n",
       "      <td>5449000131805</td>\n",
       "      <td>[en:beverages, en:carbonated-drinks, en:artifi...</td>\n",
       "      <td>Boisson rafraîchissante aux extraits végétaux,...</td>\n",
       "      <td>1</td>\n",
       "      <td>330 ml</td>\n",
       "      <td></td>\n",
       "      <td>None</td>\n",
       "    </tr>\n",
       "    <tr>\n",
       "      <th>3</th>\n",
       "      <td>3175680011534</td>\n",
       "      <td>[en:snacks, en:breakfasts, en:sweet-snacks, en...</td>\n",
       "      <td>None</td>\n",
       "      <td>9</td>\n",
       "      <td>230 g</td>\n",
       "      <td>France,European Union,Non European Union</td>\n",
       "      <td>None</td>\n",
       "    </tr>\n",
       "    <tr>\n",
       "      <th>4</th>\n",
       "      <td>8000500310427</td>\n",
       "      <td>[en:snacks, en:sweet-snacks, en:biscuits-and-c...</td>\n",
       "      <td>None</td>\n",
       "      <td>25</td>\n",
       "      <td>304g</td>\n",
       "      <td></td>\n",
       "      <td>None</td>\n",
       "    </tr>\n",
       "  </tbody>\n",
       "</table>\n",
       "</div>"
      ],
      "text/plain": [
       "              id                               categories_hierarchy  \\\n",
       "0   737628064502  [en:plant-based-foods-and-beverages, en:plant-...   \n",
       "1  3017620422003  [en:Petit-déjeuners, en:Produits à tartiner, e...   \n",
       "2  5449000131805  [en:beverages, en:carbonated-drinks, en:artifi...   \n",
       "3  3175680011534  [en:snacks, en:breakfasts, en:sweet-snacks, en...   \n",
       "4  8000500310427  [en:snacks, en:sweet-snacks, en:biscuits-and-c...   \n",
       "\n",
       "                                        generic_name  nutriscore_score  \\\n",
       "0                                       Rice Noodles                 4   \n",
       "1                                               None                26   \n",
       "2  Boisson rafraîchissante aux extraits végétaux,...                 1   \n",
       "3                                               None                 9   \n",
       "4                                               None                25   \n",
       "\n",
       "  quantity                                   origins Allergens  \n",
       "0    155 g                                  Thailand      None  \n",
       "1    400 g                                                None  \n",
       "2   330 ml                                                None  \n",
       "3    230 g  France,European Union,Non European Union      None  \n",
       "4     304g                                                None  "
      ]
     },
     "execution_count": 23,
     "metadata": {},
     "output_type": "execute_result"
    }
   ],
   "source": [
    "for product_id in ids:\n",
    "    product = openfoodfacts.products.get_product(product_id)\n",
    "    values = list( map(product.get(\"product\").get, categories) )\n",
    "    df.loc[len(df)] = values\n",
    "df.head()"
   ]
  },
  {
   "cell_type": "code",
   "execution_count": 24,
   "metadata": {},
   "outputs": [
    {
     "data": {
      "text/plain": [
       "\"%%time\\ndf_test = pd.DataFrame([pd.Series(x) for x in df.categories_hierarchy])\\ndf_test.columns = [f'category_{x+1}' for x in df_test.columns]\\ndf_res = pd.concat([df, df_test], axis=1)\""
      ]
     },
     "execution_count": 24,
     "metadata": {},
     "output_type": "execute_result"
    }
   ],
   "source": [
    "# Unnecessary work \n",
    "\n",
    "#get all categories\n",
    "'''categ=openfoodfacts.facets.get_categories()\n",
    "type(categ[0]), categ[0]\n",
    "all_categories = list(map(lambda d: d.get('id', 'default value'), categ))'''\n",
    "\n",
    "\n",
    "#split and add categories as column\n",
    "'''%%time\n",
    "df_test = pd.DataFrame([pd.Series(x) for x in df.categories_hierarchy])\n",
    "df_test.columns = [f'category_{x+1}' for x in df_test.columns]\n",
    "df_res = pd.concat([df, df_test], axis=1)'''"
   ]
  },
  {
   "cell_type": "markdown",
   "metadata": {},
   "source": [
    "# Create new DF with splitted categories and counter "
   ]
  },
  {
   "cell_type": "code",
   "execution_count": 25,
   "metadata": {},
   "outputs": [],
   "source": [
    "category_counter = Counter(df['categories_hierarchy'].explode())"
   ]
  },
  {
   "cell_type": "code",
   "execution_count": 26,
   "metadata": {},
   "outputs": [],
   "source": [
    "category_counter_df= pd.DataFrame.from_dict(category_counter, orient='index').reset_index().rename(columns={\"index\": \"category\", 0: \"amount\"})"
   ]
  },
  {
   "cell_type": "code",
   "execution_count": 27,
   "metadata": {},
   "outputs": [
    {
     "data": {
      "text/html": [
       "<div>\n",
       "<style scoped>\n",
       "    .dataframe tbody tr th:only-of-type {\n",
       "        vertical-align: middle;\n",
       "    }\n",
       "\n",
       "    .dataframe tbody tr th {\n",
       "        vertical-align: top;\n",
       "    }\n",
       "\n",
       "    .dataframe thead th {\n",
       "        text-align: right;\n",
       "    }\n",
       "</style>\n",
       "<table border=\"1\" class=\"dataframe\">\n",
       "  <thead>\n",
       "    <tr style=\"text-align: right;\">\n",
       "      <th></th>\n",
       "      <th>category</th>\n",
       "      <th>amount</th>\n",
       "    </tr>\n",
       "  </thead>\n",
       "  <tbody>\n",
       "    <tr>\n",
       "      <th>0</th>\n",
       "      <td>en:plant-based-foods-and-beverages</td>\n",
       "      <td>8</td>\n",
       "    </tr>\n",
       "    <tr>\n",
       "      <th>1</th>\n",
       "      <td>en:plant-based-foods</td>\n",
       "      <td>7</td>\n",
       "    </tr>\n",
       "    <tr>\n",
       "      <th>2</th>\n",
       "      <td>en:cereals-and-potatoes</td>\n",
       "      <td>4</td>\n",
       "    </tr>\n",
       "    <tr>\n",
       "      <th>3</th>\n",
       "      <td>en:cereals-and-their-products</td>\n",
       "      <td>3</td>\n",
       "    </tr>\n",
       "    <tr>\n",
       "      <th>4</th>\n",
       "      <td>en:pastas</td>\n",
       "      <td>1</td>\n",
       "    </tr>\n",
       "  </tbody>\n",
       "</table>\n",
       "</div>"
      ],
      "text/plain": [
       "                             category  amount\n",
       "0  en:plant-based-foods-and-beverages       8\n",
       "1                en:plant-based-foods       7\n",
       "2             en:cereals-and-potatoes       4\n",
       "3       en:cereals-and-their-products       3\n",
       "4                           en:pastas       1"
      ]
     },
     "execution_count": 27,
     "metadata": {},
     "output_type": "execute_result"
    }
   ],
   "source": [
    "category_counter_df.head()"
   ]
  },
  {
   "cell_type": "code",
   "execution_count": 28,
   "metadata": {},
   "outputs": [
    {
     "data": {
      "text/plain": [
       "'mask_for_one_occurance = (category_counter_df.amount == 1)\\ndf.categories_hierarchy.apply(lambda x: any([k in x for k in category_counter_df[mask_for_one_occurance].category.to_list()]))'"
      ]
     },
     "execution_count": 28,
     "metadata": {},
     "output_type": "execute_result"
    }
   ],
   "source": [
    "# Unnecessary work \n",
    "\n",
    "#get df with categories that occure once\n",
    "'''mask_for_one_occurance = (category_counter_df.amount == 1)\n",
    "df.categories_hierarchy.apply(lambda x: any([k in x for k in category_counter_df[mask_for_one_occurance].category.to_list()]))'''"
   ]
  },
  {
   "cell_type": "markdown",
   "metadata": {},
   "source": [
    "# Find and Add min and max to new DF"
   ]
  },
  {
   "cell_type": "code",
   "execution_count": 29,
   "metadata": {},
   "outputs": [],
   "source": [
    "aggr_df = df.explode(\"categories_hierarchy\").groupby(\"categories_hierarchy\").agg({\"nutriscore_score\": ['min', 'max']}).xs('nutriscore_score', axis=1, drop_level=True).reset_index()\n"
   ]
  },
  {
   "cell_type": "code",
   "execution_count": 30,
   "metadata": {},
   "outputs": [],
   "source": [
    "result_df = aggr_df.rename(columns={\"categories_hierarchy\": \"category\", \"min\": \"minimum\", \"max\": \"maximum\"}).merge(category_counter_df, on=\"category\")"
   ]
  },
  {
   "cell_type": "code",
   "execution_count": 31,
   "metadata": {},
   "outputs": [],
   "source": [
    "result_df=result_df.rename(columns={\"category\": \"generic_name\", \"minimum\":\"min_nutr_score\", \"maximum\":\"max_nutr_score\"})"
   ]
  },
  {
   "cell_type": "code",
   "execution_count": 32,
   "metadata": {
    "pycharm": {
     "is_executing": true
    }
   },
   "outputs": [],
   "source": [
    "result_df.to_csv(\"food_data.csv\")\n"
   ]
  },
  {
   "cell_type": "code",
   "execution_count": null,
   "metadata": {
    "pycharm": {
     "name": "#%%\n"
    }
   },
   "outputs": [],
   "source": []
  }
 ],
 "metadata": {
  "kernelspec": {
   "display_name": "Python 3 (ipykernel)",
   "language": "python",
   "name": "python3"
  },
  "language_info": {
   "codemirror_mode": {
    "name": "ipython",
    "version": 3
   },
   "file_extension": ".py",
   "mimetype": "text/x-python",
   "name": "python",
   "nbconvert_exporter": "python",
   "pygments_lexer": "ipython3",
   "version": "3.9.13"
  }
 },
 "nbformat": 4,
 "nbformat_minor": 1
}